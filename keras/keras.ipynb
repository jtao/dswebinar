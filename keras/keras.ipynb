{
  "cells": [
    {
      "cell_type": "markdown",
      "metadata": {
        "id": "9olbm7KZzEar"
      },
      "source": [
        "# Introduction to Keras\n",
        "[Jian Tao](https://tx.ag/jtao), Texas A&M University\n",
        "\n",
        "June 30, 2023"
      ]
    },
    {
      "cell_type": "code",
      "execution_count": null,
      "metadata": {
        "id": "aKa1hQxIzEav"
      },
      "outputs": [],
      "source": [
        "%matplotlib inline\n",
        "from tensorflow.keras import utils\n",
        "from tensorflow.keras import Sequential\n",
        "from tensorflow.keras.layers import Dense\n",
        "import numpy as np\n",
        "import matplotlib.pyplot as plt"
      ]
    },
    {
      "cell_type": "markdown",
      "metadata": {
        "id": "G2n7F9GIzEaw"
      },
      "source": [
        "## 1. Linear Regression"
      ]
    },
    {
      "cell_type": "markdown",
      "metadata": {
        "id": "vIewzErrzEax"
      },
      "source": [
        "### The data points to be fitted"
      ]
    },
    {
      "cell_type": "code",
      "execution_count": null,
      "metadata": {
        "id": "raQGv4KuzEax"
      },
      "outputs": [],
      "source": [
        "x = np.array([-1.0, 0.0, 1.0, 2.0, 3.0, 4.0, 5.0], dtype = float)\n",
        "y = 3.0 * x + 2.0 + 0.5 * np.random.randn(len(x))"
      ]
    },
    {
      "cell_type": "code",
      "execution_count": null,
      "metadata": {
        "id": "XyR0vMvYzEax"
      },
      "outputs": [],
      "source": [
        "plt.scatter(x,y);\n",
        "plt.plot(x, 3*x+2);"
      ]
    },
    {
      "cell_type": "markdown",
      "metadata": {
        "id": "e-KiNATFzEay"
      },
      "source": [
        "### Review Linear Regression with scikit-learn"
      ]
    },
    {
      "cell_type": "code",
      "execution_count": null,
      "metadata": {
        "id": "qLlu1medzEay"
      },
      "outputs": [],
      "source": [
        "from sklearn.linear_model import LinearRegression\n",
        "sk_model = LinearRegression()\n",
        "\n",
        "# use the data points defined above\n",
        "sk_x = x[:, np.newaxis]\n",
        "sk_y = y\n",
        "\n",
        "# fit the model with sklearn\n",
        "sk_model.fit(sk_x, sk_y);\n",
        "\n",
        "# make predictions\n",
        "sk_yfit = sk_model.predict(sk_x)\n",
        "\n",
        "# plot the fitted line with the equation\n",
        "plt.scatter(sk_x,sk_y);\n",
        "plt.plot(sk_x, sk_yfit);\n",
        "plt.text(-1.0, 15, r\"Y = %f *x + %f\"%(sk_model.coef_, sk_model.intercept_), fontsize=15);"
      ]
    },
    {
      "cell_type": "markdown",
      "metadata": {
        "id": "7WQg1tgNzEaz"
      },
      "source": [
        "### Linear Regression with Keras"
      ]
    },
    {
      "cell_type": "code",
      "execution_count": null,
      "metadata": {
        "id": "5pLoXOH0zEa0"
      },
      "outputs": [],
      "source": [
        "model = Sequential([Dense(units=1, input_shape=[1])])\n",
        "model.compile (optimizer='sgd', loss='mean_squared_error')\n",
        "model.fit(x,y,epochs=20, verbose=1);"
      ]
    },
    {
      "cell_type": "code",
      "execution_count": null,
      "metadata": {
        "id": "rda7rAo9zEa0"
      },
      "outputs": [],
      "source": [
        "yfit = model.predict(x)"
      ]
    },
    {
      "cell_type": "code",
      "execution_count": null,
      "metadata": {
        "id": "YHYkevAHzEa1"
      },
      "outputs": [],
      "source": [
        "plt.scatter(x, y);\n",
        "plt.plot(x, yfit);\n",
        "plt.text(-1.0, 15, r\"Y = %f *x + %f\"%(tuple(model.get_weights())), fontsize=15);"
      ]
    },
    {
      "cell_type": "markdown",
      "metadata": {
        "id": "LjEtyOFxzEa1"
      },
      "source": [
        "## 2. Keras - All about Layers\n",
        "Layers are the fundamental building blocks of Keras models. A wide variety of Keras functions are dedicated to create different kind of layers and connect them to form a deep learning network."
      ]
    },
    {
      "cell_type": "code",
      "execution_count": null,
      "metadata": {
        "id": "aO8GpgqRzEa1"
      },
      "outputs": [],
      "source": [
        "# Generate dummy data\n",
        "import numpy as np\n",
        "\n",
        "# training data set 1000 row, 20 columns\n",
        "x_train = np.random.random((1000, 20))\n",
        "y_train = utils.to_categorical(np.random.randint(10, size=(1000, 1)), num_classes=10)\n",
        "\n",
        "# testing data set 100 row, 20 columns\n",
        "x_test = np.random.random((100, 20))\n",
        "y_test = utils.to_categorical(np.random.randint(10, size=(100, 1)), num_classes=10)"
      ]
    },
    {
      "cell_type": "code",
      "execution_count": null,
      "metadata": {
        "id": "WK3MiiNfzEa2"
      },
      "outputs": [],
      "source": [
        "# The simplest type of model is a linear stack of layers.\n",
        "model = Sequential([\n",
        "     Dense(units=64, activation='relu', input_dim=20),\n",
        "     Dense(units=10, activation='softmax')\n",
        "    ])\n",
        "\n",
        "# instead of adding all the layers as a list, each layer could be added separately.\n",
        "#model = Sequential()\n",
        "#model.add(Dense(units=64, activation='relu'))\n",
        "#model.add(Dense(units=10, activation='softmax'))"
      ]
    },
    {
      "cell_type": "code",
      "execution_count": null,
      "metadata": {
        "id": "HXUI-UrezEa2"
      },
      "outputs": [],
      "source": [
        "# configure the learning process of the model with compile()\n",
        "# The optimizer could be configured with\n",
        "# optimizer=keras.optimizers.SGD(lr=0.01, momentum=0.9, nesterov=True))\n",
        "\n",
        "model.compile(loss='categorical_crossentropy',\n",
        "              optimizer='sgd',\n",
        "              metrics=['accuracy'])"
      ]
    },
    {
      "cell_type": "code",
      "execution_count": null,
      "metadata": {
        "id": "TE9T1SPRzEa3"
      },
      "outputs": [],
      "source": [
        "model.fit(x_train, y_train, epochs=5, batch_size=1000, verbose=1)"
      ]
    },
    {
      "cell_type": "code",
      "execution_count": null,
      "metadata": {
        "id": "6qHaEJCQzEa3"
      },
      "outputs": [],
      "source": [
        "print(model.summary())"
      ]
    }
  ],
  "metadata": {
    "colab": {
      "name": "keras.ipynb",
      "provenance": []
    },
    "kernelspec": {
      "display_name": "Python 3 (ipykernel)",
      "language": "python",
      "name": "python3"
    },
    "language_info": {
      "codemirror_mode": {
        "name": "ipython",
        "version": 3
      },
      "file_extension": ".py",
      "mimetype": "text/x-python",
      "name": "python",
      "nbconvert_exporter": "python",
      "pygments_lexer": "ipython3",
      "version": "3.11.4"
    }
  },
  "nbformat": 4,
  "nbformat_minor": 0
}