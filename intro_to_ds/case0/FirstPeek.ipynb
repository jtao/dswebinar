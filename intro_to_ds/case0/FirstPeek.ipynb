{
  "cells": [
    {
      "cell_type": "markdown",
      "metadata": {
        "id": "view-in-github",
        "colab_type": "text"
      },
      "source": [
        "<a href=\"https://colab.research.google.com/github/jtao/dswebinar/blob/master/intro_to_ds/case0/FirstPeek.ipynb\" target=\"_parent\"><img src=\"https://colab.research.google.com/assets/colab-badge.svg\" alt=\"Open In Colab\"/></a>"
      ]
    },
    {
      "cell_type": "markdown",
      "metadata": {
        "id": "lFTKo8npSKb8"
      },
      "source": [
        "# A sample data science project with the diabetes dataset\n",
        "\n",
        "[Jian Tao](https://orcid.org/0000-0003-4228-6089), Texas A&M University\n",
        "\n",
        "May 1, 2021"
      ]
    },
    {
      "cell_type": "markdown",
      "metadata": {
        "id": "aa4_d6VwSKb-"
      },
      "source": [
        "### The goal of this project is to build a model to predict disease progression.\n",
        "\n",
        "Given a dataset, we will\n",
        "1. explore the diabetes data set,\n",
        "2. build a multilinear model with top 3 features that are closely correlated with the target,\n",
        "3. create a Deep Neural Network with 3 hidden layers, and finally,\n",
        "4. compare the models and discuss the results."
      ]
    },
    {
      "cell_type": "code",
      "execution_count": null,
      "metadata": {
        "id": "7cZoAUChSKb_"
      },
      "outputs": [],
      "source": [
        "import pandas as pd\n",
        "import numpy as np\n",
        "import matplotlib.pyplot as plt\n",
        "from sklearn import datasets\n",
        "import seaborn as sns\n",
        "import os"
      ]
    },
    {
      "cell_type": "markdown",
      "metadata": {
        "id": "mDGm8odvSKcA"
      },
      "source": [
        "### 1. First of all, load and explore the data"
      ]
    },
    {
      "cell_type": "code",
      "execution_count": null,
      "metadata": {
        "id": "DpFZwDdaSKcA"
      },
      "outputs": [],
      "source": [
        "# we will load the diabetes data set distributed with sklearn.\n",
        "diabetes = datasets.load_diabetes()\n",
        "\n",
        "# load data into a Pandas DataFrame when you need to do EDA.\n",
        "df = pd.DataFrame(diabetes.data, columns=diabetes.feature_names)\n",
        "df[\"target\"] = diabetes.target"
      ]
    },
    {
      "cell_type": "code",
      "execution_count": null,
      "metadata": {
        "id": "6AyU4iOoSKcA"
      },
      "outputs": [],
      "source": [
        "df = pd.DataFrame(diabetes.data, columns=diabetes.feature_names)\n",
        "df[\"target\"] = diabetes.target # only for plot the first figure."
      ]
    },
    {
      "cell_type": "code",
      "execution_count": null,
      "metadata": {
        "id": "MHxq921fSKcB"
      },
      "outputs": [],
      "source": [
        "print(diabetes.DESCR)"
      ]
    },
    {
      "cell_type": "code",
      "execution_count": null,
      "metadata": {
        "id": "3Pl6Ka5ESKcB"
      },
      "outputs": [],
      "source": [
        "df.describe().T"
      ]
    },
    {
      "cell_type": "code",
      "execution_count": null,
      "metadata": {
        "id": "_yYgIJLsSKcB"
      },
      "outputs": [],
      "source": [
        "df.info()"
      ]
    },
    {
      "cell_type": "code",
      "execution_count": null,
      "metadata": {
        "id": "NNQU22kYSKcB"
      },
      "outputs": [],
      "source": [
        "df"
      ]
    },
    {
      "cell_type": "code",
      "execution_count": null,
      "metadata": {
        "id": "7YeW5TXiSKcC"
      },
      "outputs": [],
      "source": [
        "plt.figure(figsize=(15,10))\n",
        "sns.heatmap(df.corr(), annot=True);"
      ]
    },
    {
      "cell_type": "code",
      "execution_count": null,
      "metadata": {
        "id": "IPZ_0y0TSKcC"
      },
      "outputs": [],
      "source": [
        "g = sns.pairplot(df[[\"target\", \"bmi\", \"bp\", \"s4\", \"s5\"]])\n",
        "g.map_lower(sns.kdeplot, levels=4, color=\".2\")"
      ]
    },
    {
      "cell_type": "markdown",
      "metadata": {
        "id": "GwcZfrzQSKcC"
      },
      "source": [
        "### 2. Build a multilinear regression model with top 3 correlated features\n",
        "Top 3 features that are correlated with the target are bmi (0.59), s5 (0.57), and bp (0.44)"
      ]
    },
    {
      "cell_type": "code",
      "execution_count": null,
      "metadata": {
        "id": "DhI2lkjpSKcC"
      },
      "outputs": [],
      "source": [
        "from sklearn.linear_model import LinearRegression\n",
        "from sklearn.metrics import mean_squared_error, r2_score\n",
        "\n",
        "X = df[['bmi',\"bp\", \"s5\"]]\n",
        "y = df[[\"target\"]]\n",
        "\n",
        "multi_reg = LinearRegression()\n",
        "multi_reg.fit(X, y)\n",
        "\n",
        "y_pred = multi_reg.predict(X)\n",
        "\n",
        "print('Coefficients:', multi_reg.coef_)\n",
        "print('MSE:', mean_squared_error(y, y_pred) )\n",
        "print('R-sq:', r2_score(y, y_pred) )"
      ]
    },
    {
      "cell_type": "code",
      "execution_count": null,
      "metadata": {
        "id": "VlpGSpNMSKcC"
      },
      "outputs": [],
      "source": [
        "plt.scatter(y, y_pred)\n",
        "plt.plot(y, y)"
      ]
    },
    {
      "cell_type": "markdown",
      "metadata": {
        "id": "IfUBmGOqSKcD"
      },
      "source": [
        "### 3. Build a Deep Neural Network with 3 hidden Dense layers with all the features."
      ]
    },
    {
      "cell_type": "code",
      "execution_count": null,
      "metadata": {
        "id": "HBxmKaj2SKcD"
      },
      "outputs": [],
      "source": [
        "import tensorflow as tf\n",
        "from tensorflow import keras\n",
        "from tensorflow.keras import Sequential\n",
        "from tensorflow.keras.layers import Dense\n",
        "from sklearn.preprocessing import StandardScaler\n",
        "from sklearn.model_selection import train_test_split\n",
        "from sklearn import datasets"
      ]
    },
    {
      "cell_type": "code",
      "execution_count": null,
      "metadata": {
        "id": "PwQV_PcPSKcD"
      },
      "outputs": [],
      "source": [
        "diabetes = datasets.load_diabetes()\n",
        "df = pd.DataFrame(diabetes.data, columns=diabetes.feature_names)\n",
        "df[\"target\"] = diabetes.target"
      ]
    },
    {
      "cell_type": "code",
      "execution_count": null,
      "metadata": {
        "id": "QnCIEUOsSKcD"
      },
      "outputs": [],
      "source": [
        "X = df.drop(\"target\", axis = 1)\n",
        "y = df[\"target\"]\n",
        "X_train,X_test,y_train,y_test = train_test_split(X,y,test_size=0.3,random_state = 101)"
      ]
    },
    {
      "cell_type": "code",
      "execution_count": null,
      "metadata": {
        "id": "KA2mKcgBSKcD"
      },
      "outputs": [],
      "source": [
        "X_train"
      ]
    },
    {
      "cell_type": "code",
      "execution_count": null,
      "metadata": {
        "id": "paaHtRbOSKcD"
      },
      "outputs": [],
      "source": [
        "# Neural network\n",
        "model = Sequential()\n",
        "model.add(Dense(12, input_dim=10, activation=\"relu\"))\n",
        "model.add(Dense(10, activation=\"relu\"))\n",
        "model.add(Dense(1))\n",
        "\n",
        "# compile the model\n",
        "model.compile(optimizer='adam', loss='mean_squared_error')\n",
        "\n",
        "# train the model (set verbose to True to see the output)\n",
        "model.fit(X_train, y_train, validation_split=0.2, epochs=400, verbose=False)"
      ]
    },
    {
      "cell_type": "code",
      "execution_count": null,
      "metadata": {
        "id": "H3jsgAynSKcE"
      },
      "outputs": [],
      "source": [
        "y_pred = model.predict(X_test)"
      ]
    },
    {
      "cell_type": "code",
      "execution_count": null,
      "metadata": {
        "id": "_rgVmTuXSKcE"
      },
      "outputs": [],
      "source": [
        "from sklearn.metrics import mean_squared_error, r2_score\n",
        "\n",
        "print('MSE:', mean_squared_error(y_test, y_pred) )\n",
        "\n",
        "print('R-sq:', r2_score(y_test, y_pred) )"
      ]
    },
    {
      "cell_type": "markdown",
      "metadata": {
        "id": "GbCOcCFmSKcE"
      },
      "source": [
        "### 4. Comparing models\n",
        "1. R2 - Multi-linear: 0.48008281990946056\n",
        "2. R2 - Deep Learning: 0.4773411304310343"
      ]
    },
    {
      "cell_type": "markdown",
      "metadata": {
        "id": "ye0RoMJJSKcE"
      },
      "source": [
        "R2 score of the multi-linear method is comparable to that of the Deep Learning regressor. For the multi-linear method, we will need to manually extract the features. For this dataset, those 3 features give a relative good result, which is comparable to that from the Deep Learning method, which considers all the features."
      ]
    }
  ],
  "metadata": {
    "kernelspec": {
      "display_name": "Python 3",
      "language": "python",
      "name": "python3"
    },
    "language_info": {
      "codemirror_mode": {
        "name": "ipython",
        "version": 3
      },
      "file_extension": ".py",
      "mimetype": "text/x-python",
      "name": "python",
      "nbconvert_exporter": "python",
      "pygments_lexer": "ipython3",
      "version": "3.8.9"
    },
    "colab": {
      "provenance": [],
      "include_colab_link": true
    }
  },
  "nbformat": 4,
  "nbformat_minor": 0
}