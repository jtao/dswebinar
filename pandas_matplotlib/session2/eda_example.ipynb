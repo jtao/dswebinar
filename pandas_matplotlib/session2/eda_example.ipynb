{
 "cells": [
  {
   "cell_type": "markdown",
   "metadata": {
    "editable": true,
    "id": "2E5pw1388LZT",
    "slideshow": {
     "slide_type": ""
    },
    "tags": []
   },
   "source": [
    "## Case #1 US Mass Shootings, 1982-2020: Data From Mother Jones’ Investigation\n",
    "[Link to the report](https://www.motherjones.com/politics/2012/12/mass-shootings-mother-jones-full-data/)\n",
    "\n",
    "This dataset covers the mass shooting cases in the US from 1982 to 2020."
   ]
  },
  {
   "cell_type": "code",
   "execution_count": null,
   "metadata": {
    "id": "v0CZYiP28LZV"
   },
   "outputs": [],
   "source": [
    "import pandas as pd\n",
    "import seaborn as sns\n",
    "sns.set()"
   ]
  },
  {
   "cell_type": "code",
   "execution_count": null,
   "metadata": {},
   "outputs": [],
   "source": [
    "import warnings\n",
    "warnings.filterwarnings(\"ignore\")"
   ]
  },
  {
   "cell_type": "code",
   "execution_count": null,
   "metadata": {
    "id": "S32U1oBk-Eks"
   },
   "outputs": [],
   "source": [
    "# this is to detect if we are running on Google Colab.\n",
    "import sys\n",
    "IN_COLAB = 'google.colab' in sys.modules"
   ]
  },
  {
   "cell_type": "code",
   "execution_count": null,
   "metadata": {
    "editable": true,
    "id": "y44IUmXi8LZW",
    "slideshow": {
     "slide_type": ""
    },
    "tags": []
   },
   "outputs": [],
   "source": [
    "if IN_COLAB:\n",
    "  datafile = \"https://github.com/jtao/dswebinar/raw/master/pandas_matplotlib/session2/MJ_mass_shooting1982_2020.csv\"\n",
    "else:\n",
    "  datafile = \"MJ_mass_shooting1982_2020.csv\"\n",
    "df = pd.read_csv(datafile)"
   ]
  },
  {
   "cell_type": "code",
   "execution_count": null,
   "metadata": {
    "id": "0BX1lGcE8LZW"
   },
   "outputs": [],
   "source": [
    "df.head(5)"
   ]
  },
  {
   "cell_type": "code",
   "execution_count": null,
   "metadata": {
    "id": "oBEo_E8a8LZW"
   },
   "outputs": [],
   "source": [
    "df.info()"
   ]
  },
  {
   "cell_type": "code",
   "execution_count": null,
   "metadata": {
    "id": "Tpju0Edf8LZX"
   },
   "outputs": [],
   "source": [
    "df.describe().T"
   ]
  },
  {
   "cell_type": "code",
   "execution_count": null,
   "metadata": {
    "id": "-9mECof48LZX"
   },
   "outputs": [],
   "source": [
    "df.hist(figsize=(10,10), bins=10);"
   ]
  },
  {
   "cell_type": "code",
   "execution_count": null,
   "metadata": {
    "id": "C89lLCsq8LZX"
   },
   "outputs": [],
   "source": [
    "df.corr(numeric_only=True).style.background_gradient(cmap='coolwarm')"
   ]
  },
  {
   "cell_type": "markdown",
   "metadata": {
    "id": "JedjvpFS8LZY"
   },
   "source": [
    "## Case #2 Wine Data Set\n",
    "\n",
    "[Link to the data set](https://archive.ics.uci.edu/ml/datasets/wine+quality)\n",
    "\n",
    "The particular dataset used in this case study is related to red variants of the Portuguese \"Vinho Verde\" wine. The goal is to model wine quality based on physicochemical tests."
   ]
  },
  {
   "cell_type": "code",
   "execution_count": null,
   "metadata": {
    "id": "byAo2hxq8LZY"
   },
   "outputs": [],
   "source": [
    "if IN_COLAB:\n",
    "  datafile = \"https://raw.githubusercontent.com/jtao/dswebinar/master/pandas_matplotlib/session2/winequality-red.csv\"\n",
    "else:\n",
    "  datafile = \"winequality-red.csv\"\n",
    "df = pd.read_csv(datafile, sep=';')"
   ]
  },
  {
   "cell_type": "code",
   "execution_count": null,
   "metadata": {
    "id": "nc7UhI3L8LZY"
   },
   "outputs": [],
   "source": [
    "df.head(5)"
   ]
  },
  {
   "cell_type": "code",
   "execution_count": null,
   "metadata": {
    "id": "0f7MRI8V8LZY"
   },
   "outputs": [],
   "source": [
    "df.info()"
   ]
  },
  {
   "cell_type": "code",
   "execution_count": null,
   "metadata": {
    "id": "_p7c50Bl8LZZ"
   },
   "outputs": [],
   "source": [
    "df.describe().T"
   ]
  },
  {
   "cell_type": "code",
   "execution_count": null,
   "metadata": {
    "id": "1sG05sx18LZZ"
   },
   "outputs": [],
   "source": [
    "df.hist(figsize=(10,10), bins=10);"
   ]
  },
  {
   "cell_type": "code",
   "execution_count": null,
   "metadata": {
    "id": "cj6v88wG8LZZ"
   },
   "outputs": [],
   "source": [
    "df.corr().style.background_gradient(cmap='coolwarm')"
   ]
  },
  {
   "cell_type": "code",
   "execution_count": null,
   "metadata": {
    "editable": true,
    "id": "ep2fb7vj8LZZ",
    "slideshow": {
     "slide_type": ""
    },
    "tags": []
   },
   "outputs": [],
   "source": [
    "sns.pairplot(data=df, kind=\"scatter\", vars=[\"fixed acidity\", \"citric acid\", \"density\", \"pH\"], hue=\"quality\")"
   ]
  },
  {
   "cell_type": "code",
   "execution_count": null,
   "metadata": {
    "id": "c_vlYKTp8LZZ"
   },
   "outputs": [],
   "source": [
    "sns.violinplot(data=df[[\"fixed acidity\", \"citric acid\", \"density\", \"pH\"]])"
   ]
  }
 ],
 "metadata": {
  "colab": {
   "provenance": []
  },
  "kernelspec": {
   "display_name": "Python 3 (ipykernel)",
   "language": "python",
   "name": "python3"
  },
  "language_info": {
   "codemirror_mode": {
    "name": "ipython",
    "version": 3
   },
   "file_extension": ".py",
   "mimetype": "text/x-python",
   "name": "python",
   "nbconvert_exporter": "python",
   "pygments_lexer": "ipython3",
   "version": "3.11.5"
  }
 },
 "nbformat": 4,
 "nbformat_minor": 4
}
