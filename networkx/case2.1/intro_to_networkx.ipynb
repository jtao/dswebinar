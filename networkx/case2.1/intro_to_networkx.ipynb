{
  "cells": [
    {
      "cell_type": "markdown",
      "metadata": {
        "id": "view-in-github",
        "colab_type": "text"
      },
      "source": [
        "<a href=\"https://colab.research.google.com/github/jtao/dswebinar/blob/master/networkx/case2.1/intro_to_networkx.ipynb\" target=\"_parent\"><img src=\"https://colab.research.google.com/assets/colab-badge.svg\" alt=\"Open In Colab\"/></a>"
      ]
    },
    {
      "cell_type": "markdown",
      "metadata": {
        "id": "RQXtrlldkpd9"
      },
      "source": [
        "# Graph Analytics with NetworkX\n",
        "\n",
        "[Jian Tao](https://coehpc.engr.tamu.edu/people/jian-tao/), Texas A&M University\n",
        "\n",
        "June 23, 2023\n",
        "\n",
        "Adopted from\n",
        "\n",
        "**the NetworkX tutorial**\n",
        "\n",
        "at https://networkx.github.io/documentation/stable/tutorial.html"
      ]
    },
    {
      "cell_type": "code",
      "execution_count": null,
      "metadata": {
        "id": "Sf0i1HsjkpeA"
      },
      "outputs": [],
      "source": [
        "%matplotlib inline\n",
        "import networkx as nx\n",
        "import matplotlib.pyplot as plt\n",
        "import matplotlib.colors as mcolors"
      ]
    },
    {
      "cell_type": "markdown",
      "metadata": {
        "id": "rVQVHIKPkpeB"
      },
      "source": [
        "### Create a graph\n",
        "By definition, a Graph is a collection of nodes (vertices) along with identified pairs of nodes (called edges, links, etc). In NetworkX, nodes can be any hashable object e.g., a text string, an image, an XML object, another Graph, a customized node object, etc.\n",
        "\n",
        "NetworkX contains functions to **CRUD (Create, Read, Update, and Delete)** graphs."
      ]
    },
    {
      "cell_type": "code",
      "execution_count": null,
      "metadata": {
        "id": "2JtZLGzpkpeC"
      },
      "outputs": [],
      "source": [
        "G = nx.Graph()"
      ]
    },
    {
      "cell_type": "code",
      "execution_count": null,
      "metadata": {
        "id": "RCgqRaKckpeC"
      },
      "outputs": [],
      "source": [
        "G.add_node(1)"
      ]
    },
    {
      "cell_type": "code",
      "execution_count": null,
      "metadata": {
        "id": "cmUuoIc9kpeC"
      },
      "outputs": [],
      "source": [
        "G.add_nodes_from([2,3])"
      ]
    },
    {
      "cell_type": "code",
      "execution_count": null,
      "metadata": {
        "id": "vwkdGs9pkpeC"
      },
      "outputs": [],
      "source": [
        "G.nodes()"
      ]
    },
    {
      "cell_type": "code",
      "execution_count": null,
      "metadata": {
        "id": "zMaJbcECkpeD"
      },
      "outputs": [],
      "source": [
        "G.add_edge(1,2)"
      ]
    },
    {
      "cell_type": "code",
      "execution_count": null,
      "metadata": {
        "id": "p84r5nsGkpeD"
      },
      "outputs": [],
      "source": [
        "G.add_edges_from([(1,2),(1,3), (2,3)])"
      ]
    },
    {
      "cell_type": "code",
      "execution_count": null,
      "metadata": {
        "id": "s5CrmBvdkpeD"
      },
      "outputs": [],
      "source": [
        "G.edges()"
      ]
    },
    {
      "cell_type": "code",
      "execution_count": null,
      "metadata": {
        "id": "OIw0BczxkpeD"
      },
      "outputs": [],
      "source": [
        "nx.draw(G, with_labels=True, node_size=3000, node_color=\"g\", font_size=20)"
      ]
    },
    {
      "cell_type": "markdown",
      "metadata": {
        "id": "dENUFZHkkpeD"
      },
      "source": [
        "One can remove nodes and edges from the graph in a similar fashion to adding. Use methods Graph.remove_node(), Graph.remove_nodes_from(), Graph.remove_edge() and Graph.remove_edges_from(), e.g."
      ]
    },
    {
      "cell_type": "code",
      "execution_count": null,
      "metadata": {
        "id": "AsIhRaJskpeE"
      },
      "outputs": [],
      "source": [
        "G.remove_node(2)"
      ]
    },
    {
      "cell_type": "code",
      "execution_count": null,
      "metadata": {
        "id": "5EhyFip0kpeE"
      },
      "outputs": [],
      "source": [
        "G.edges()"
      ]
    },
    {
      "cell_type": "code",
      "execution_count": null,
      "metadata": {
        "id": "a7kMD5Q_kpeE"
      },
      "outputs": [],
      "source": [
        "G.number_of_edges() # total number of edges"
      ]
    },
    {
      "cell_type": "code",
      "execution_count": null,
      "metadata": {
        "id": "6qUGsatFkpeE"
      },
      "outputs": [],
      "source": [
        "G.number_of_nodes() # total number of nodes"
      ]
    },
    {
      "cell_type": "code",
      "execution_count": null,
      "metadata": {
        "id": "-pQbnthJkpeE"
      },
      "outputs": [],
      "source": [
        "G.degree[1] # the number of edges incident to 1"
      ]
    },
    {
      "cell_type": "code",
      "execution_count": null,
      "metadata": {
        "id": "n7mAbV-xkpeE"
      },
      "outputs": [],
      "source": [
        "G.clear() # removing all nodes and edges"
      ]
    },
    {
      "cell_type": "markdown",
      "metadata": {
        "id": "E1OtgellkpeE"
      },
      "source": [
        "### Accessing edges and neighbors\n",
        "In addition to the views Graph.edges(), and Graph.adj(), access to edges and neighbors is possible using subscript notation. You can get/set the attributes of an edge using subscript notation if the edge already exists."
      ]
    },
    {
      "cell_type": "markdown",
      "metadata": {
        "id": "350TAynOkpeE"
      },
      "source": [
        "### Other built-in graphs from NetworkX\n",
        "NetworkX contains the generators for some classic graphs.\n",
        "\n",
        "You can find more information about the Graph Generators at the [NetworkX documentation](https://networkx.github.io/documentation/latest/reference/generators.html) page."
      ]
    },
    {
      "cell_type": "code",
      "execution_count": null,
      "metadata": {
        "id": "gp3cWC-skpeE"
      },
      "outputs": [],
      "source": [
        "G = nx.complete_graph(5)\n",
        "nx.draw(G)"
      ]
    },
    {
      "cell_type": "code",
      "execution_count": null,
      "metadata": {
        "id": "WSoQh82WkpeE"
      },
      "outputs": [],
      "source": [
        "G = nx.cycle_graph(10)\n",
        "nx.draw(G)"
      ]
    },
    {
      "cell_type": "code",
      "execution_count": null,
      "metadata": {
        "id": "UT8mZHHrkpeF"
      },
      "outputs": [],
      "source": [
        "G = nx.lollipop_graph(5, 8)\n",
        "nx.draw(G)"
      ]
    },
    {
      "cell_type": "code",
      "execution_count": null,
      "metadata": {
        "id": "hyWwczaPkpeF"
      },
      "outputs": [],
      "source": [
        "G = nx.path_graph(10)\n",
        "nx.draw(G)"
      ]
    },
    {
      "cell_type": "code",
      "execution_count": null,
      "metadata": {
        "id": "r47kZ6N2kpeF"
      },
      "outputs": [],
      "source": [
        "G = nx.star_graph(10)\n",
        "nx.draw(G)"
      ]
    },
    {
      "cell_type": "code",
      "execution_count": null,
      "metadata": {
        "id": "1cJNsb5skpeF"
      },
      "outputs": [],
      "source": [
        "G = nx.wheel_graph(10)\n",
        "nx.draw(G)"
      ]
    },
    {
      "cell_type": "code",
      "execution_count": null,
      "metadata": {
        "id": "l4vfSLRUkpeF"
      },
      "outputs": [],
      "source": [
        "G = nx.ladder_graph(10)\n",
        "nx.draw(G)"
      ]
    },
    {
      "cell_type": "code",
      "execution_count": null,
      "metadata": {
        "id": "7J5AeMHxkpeF"
      },
      "outputs": [],
      "source": [
        "G = nx.balanced_tree(5, 2)\n",
        "nx.draw(G)"
      ]
    },
    {
      "cell_type": "code",
      "execution_count": null,
      "metadata": {
        "id": "imT0VgRUkpeF"
      },
      "outputs": [],
      "source": [
        "G = nx.barbell_graph(5, 2)\n",
        "nx.draw(G)"
      ]
    },
    {
      "cell_type": "markdown",
      "metadata": {
        "id": "Iqb8vjLAkpeF"
      },
      "source": [
        "NetworkX also provides functions for generating grid graphs and lattices."
      ]
    },
    {
      "cell_type": "code",
      "execution_count": null,
      "metadata": {
        "id": "tMMDMTzzkpeF"
      },
      "outputs": [],
      "source": [
        "G = nx.grid_2d_graph(4,4)\n",
        "nx.draw(G)"
      ]
    },
    {
      "cell_type": "code",
      "execution_count": null,
      "metadata": {
        "id": "5qH8YjZpkpeF"
      },
      "outputs": [],
      "source": [
        "G = nx.hypercube_graph(4)\n",
        "nx.draw(G)"
      ]
    },
    {
      "cell_type": "code",
      "execution_count": null,
      "metadata": {
        "id": "zH5pVpMokpeG"
      },
      "outputs": [],
      "source": [
        "G = nx.triangular_lattice_graph(3, 3)\n",
        "nx.draw(G)"
      ]
    },
    {
      "cell_type": "markdown",
      "metadata": {
        "id": "ujKBa7fykpeG"
      },
      "source": [
        "NetworkX also can generate many small pre-defined graphs and random graphs"
      ]
    },
    {
      "cell_type": "code",
      "execution_count": null,
      "metadata": {
        "id": "1t_gfs2YkpeG"
      },
      "outputs": [],
      "source": [
        "G = nx.pappus_graph()\n",
        "nx.draw(G)"
      ]
    },
    {
      "cell_type": "code",
      "execution_count": null,
      "metadata": {
        "id": "eBUKw2lDkpeG"
      },
      "outputs": [],
      "source": [
        "G = nx.gnm_random_graph(3, 4)\n",
        "nx.draw(G)"
      ]
    },
    {
      "cell_type": "markdown",
      "metadata": {
        "id": "0PJ9FmbbkpeG"
      },
      "source": [
        "### Social Networks\n",
        "NetworkX provides some famous social networks.\n",
        "\n",
        "Zachary's karate club is a social network of a university karate club, described in the paper \"An Information Flow Model for Conflict and Fission in Small Groups\" by Wayne W. Zachary. The network became a popular example of community structure in networks after its use by Michelle Girvan and Mark Newman in 2002. [Wikipedia Entry](https://en.wikipedia.org/wiki/Zachary%27s_karate_club)\n",
        "\n",
        "The standard 78-edge network data set for Zachary's karate club is publicly available on the internet.[3] The data can be summarized as list of integer pairs. Each integer represents one karate club member and a pair indicates the two members interacted. The data set is summarized below and also in the adjoining image. Node 1 stands for the instructor, node 34 for the club administrator / president."
      ]
    },
    {
      "cell_type": "code",
      "execution_count": null,
      "metadata": {
        "id": "f_j77XCEkpeG"
      },
      "outputs": [],
      "source": [
        "G = nx.karate_club_graph()\n",
        "nx.draw(G) # Zachary’s Karate Club graph."
      ]
    },
    {
      "cell_type": "code",
      "execution_count": null,
      "metadata": {
        "id": "_P0d3-nrkpeG"
      },
      "outputs": [],
      "source": [
        "def mydraw(G, measures, measure_name):\n",
        "    pos = nx.spring_layout(G)\n",
        "    plt.figure(figsize=(12,12))\n",
        "    nodes = nx.draw_networkx_nodes(G, pos, node_size=500, cmap=plt.cm.plasma,\n",
        "                                   node_color=list(measures.values()),\n",
        "                                   nodelist=list(measures.keys()))\n",
        "    nodes.set_norm(mcolors.SymLogNorm(linthresh=0.1, linscale=1))\n",
        "\n",
        "    labels = nx.draw_networkx_labels(G, pos)\n",
        "    edges = nx.draw_networkx_edges(G, pos)\n",
        "    plt.title(measure_name)\n",
        "    plt.colorbar(nodes)\n",
        "    plt.axis('off')\n",
        "    plt.show()"
      ]
    },
    {
      "cell_type": "markdown",
      "source": [
        "Simple disease transmission network dataset"
      ],
      "metadata": {
        "id": "sL6_72gnlPzI"
      }
    },
    {
      "cell_type": "code",
      "source": [
        "# Sample disease transmission network data\n",
        "edges = [\n",
        "    ('Patient_0', 'Patient_1', {'weight': 1, 'date': '2025-01-01', 'location': 'Hospital_A'}),\n",
        "    ('Patient_0', 'Patient_2', {'weight': 1, 'date': '2025-01-02', 'location': 'Hospital_A'}),\n",
        "    ('Patient_1', 'Patient_3', {'weight': 1, 'date': '2025-01-03', 'location': 'Workplace_1'}),\n",
        "    ('Patient_2', 'Patient_4', {'weight': 1, 'date': '2025-01-03', 'location': 'Home'}),\n",
        "    ('Patient_2', 'Patient_5', {'weight': 1, 'date': '2025-01-04', 'location': 'Home'}),\n",
        "    ('Patient_3', 'Patient_6', {'weight': 1, 'date': '2025-01-05', 'location': 'School_1'}),\n",
        "]\n",
        "\n",
        "nodes = [\n",
        "    ('Patient_0', {'age': 45, 'symptoms': 'severe', 'status': 'recovered'}),\n",
        "    ('Patient_1', {'age': 32, 'symptoms': 'mild', 'status': 'recovered'}),\n",
        "    ('Patient_2', {'age': 28, 'symptoms': 'moderate', 'status': 'recovered'}),\n",
        "    ('Patient_3', {'age': 19, 'symptoms': 'mild', 'status': 'active'}),\n",
        "    ('Patient_4', {'age': 52, 'symptoms': 'severe', 'status': 'active'}),\n",
        "    ('Patient_5', {'age': 36, 'symptoms': 'moderate', 'status': 'active'}),\n",
        "    ('Patient_6', {'age': 21, 'symptoms': 'mild', 'status': 'active'})\n",
        "]\n",
        "\n",
        "G = nx.DiGraph()\n",
        "G.add_nodes_from(nodes)\n",
        "G.add_edges_from(edges)\n",
        "#nx.draw(G, with_labels=True)\n",
        "\n",
        "# Plot the larger disease transmission network\n",
        "plt.figure(figsize=(6, 6))\n",
        "\n",
        "# Use a spring layout for better visualization\n",
        "pos = nx.spring_layout(G, seed=42)\n",
        "\n",
        "# Draw the nodes with color based on status\n",
        "node_colors = ['green' if G.nodes[node]['status'] == 'recovered' else 'red' for node in G.nodes]\n",
        "nx.draw_networkx_nodes(G, pos, node_size=50, node_color=node_colors, alpha=0.8)\n",
        "\n",
        "# Draw the edges\n",
        "nx.draw_networkx_edges(G, pos, alpha=0.5, edge_color='blue')\n",
        "\n",
        "# Add labels for a subset of nodes for clarity\n",
        "labels = {node: node for node in list(G.nodes)[:10]}  # Label only the first 10 nodes\n",
        "nx.draw_networkx_labels(G, pos, labels, font_size=8)"
      ],
      "metadata": {
        "id": "jAsPugW8lOuY"
      },
      "execution_count": null,
      "outputs": []
    },
    {
      "cell_type": "code",
      "source": [
        "# Generate a larger disease transmission network dataset\n",
        "import random\n",
        "random.seed(42)\n",
        "\n",
        "# Create a directed graph\n",
        "G = nx.DiGraph()\n",
        "\n",
        "# Add nodes with attributes\n",
        "for i in range(1, 101):  # 100 patients\n",
        "    G.add_node(f'Patient_{i}', age=random.randint(1, 80), symptoms=random.choice(['mild', 'moderate', 'severe']), status=random.choice(['active', 'recovered']))\n",
        "\n",
        "# Add edges with attributes\n",
        "for _ in range(200):  # 200 transmission events\n",
        "    source = f'Patient_{random.randint(1, 100)}'\n",
        "    target = f'Patient_{random.randint(1, 100)}'\n",
        "    if source != target:  # Avoid self-loops\n",
        "        G.add_edge(source, target, weight=random.randint(1, 5), date=f'2025-02-{random.randint(1, 28):02d}', location=random.choice(['Hospital_A', 'Workplace_1', 'Home', 'School_1']))\n",
        "\n",
        "# Plot the larger disease transmission network\n",
        "plt.figure(figsize=(12, 12))\n",
        "\n",
        "# Use a spring layout for better visualization\n",
        "pos = nx.spring_layout(G, seed=42)\n",
        "\n",
        "# Draw the nodes with color based on status\n",
        "node_colors = ['green' if G.nodes[node]['status'] == 'recovered' else 'red' for node in G.nodes]\n",
        "nx.draw_networkx_nodes(G, pos, node_size=50, node_color=node_colors, alpha=0.8)\n",
        "\n",
        "# Draw the edges\n",
        "nx.draw_networkx_edges(G, pos, alpha=0.5, edge_color='blue')\n",
        "\n",
        "# Add labels for a subset of nodes for clarity\n",
        "labels = {node: node for node in list(G.nodes)[:10]}  # Label only the first 10 nodes\n",
        "nx.draw_networkx_labels(G, pos, labels, font_size=8)\n",
        "\n",
        "# Title and display\n",
        "plt.title(\"Disease Transmission Network\", fontsize=16)\n",
        "plt.axis('off')\n",
        "plt.show()"
      ],
      "metadata": {
        "id": "YNTdSg-FlsF6"
      },
      "execution_count": null,
      "outputs": []
    },
    {
      "cell_type": "markdown",
      "metadata": {
        "id": "ar0Ul0LmkpeL"
      },
      "source": [
        "### Graph Analytics Concetps"
      ]
    },
    {
      "cell_type": "code",
      "execution_count": null,
      "metadata": {
        "id": "xBAasuxjkpeM"
      },
      "outputs": [],
      "source": [
        "plt.figure(figsize=(12,12))\n",
        "G = nx.karate_club_graph()\n",
        "pos = nx.spring_layout(G)\n",
        "nx.draw(G, pos, with_labels=True) # Zachary’s Karate Club graph."
      ]
    },
    {
      "cell_type": "code",
      "execution_count": null,
      "metadata": {
        "id": "G6gT8DOZkpeM"
      },
      "outputs": [],
      "source": [
        "measure = nx.degree_centrality(G)\n",
        "mydraw(G, measure, 'Degree Centrality')"
      ]
    },
    {
      "cell_type": "code",
      "execution_count": null,
      "metadata": {
        "id": "PWRObi5EkpeM"
      },
      "outputs": [],
      "source": [
        "measure = nx.betweenness_centrality(G)\n",
        "mydraw(G, measure, 'Betweenness Centrality')"
      ]
    },
    {
      "cell_type": "code",
      "execution_count": null,
      "metadata": {
        "id": "mNrkI51ykpeM"
      },
      "outputs": [],
      "source": [
        "measure = nx.closeness_centrality(G)\n",
        "mydraw(G, measure, 'Closeness Centrality')"
      ]
    },
    {
      "cell_type": "markdown",
      "metadata": {
        "id": "bTsJcTVPkpeM"
      },
      "source": [
        "### Density\n",
        "\n",
        "Density measures how many edges a Graph has. The density for undirected graphs is\n",
        "    $$d = \\frac{2m}{n(n-1)}$$\n",
        "    and for directed graphs is\n",
        "    $$d = \\frac{m}{n(n-1)},$$\n",
        "    where `n` is the number of nodes and `m`  is the number of edges in `G`.\n"
      ]
    },
    {
      "cell_type": "code",
      "execution_count": null,
      "metadata": {
        "id": "kmzKG7oEkpeM"
      },
      "outputs": [],
      "source": [
        "nx.density(G)"
      ]
    },
    {
      "cell_type": "markdown",
      "metadata": {
        "id": "477FqFWkkpeN"
      },
      "source": [
        "### Average Shortest Path Length\n",
        "It is a concept in network topology that is defined as the average number of steps along the shortest paths for all possible pairs of network nodes. It is a measure of the efficiency of information or mass transport on a network.\n"
      ]
    },
    {
      "cell_type": "code",
      "execution_count": null,
      "metadata": {
        "id": "hpZU9N2zkpeN"
      },
      "outputs": [],
      "source": [
        "nx.average_shortest_path_length(G)"
      ]
    },
    {
      "cell_type": "markdown",
      "metadata": {
        "id": "z9ZA8Y_-kpeN"
      },
      "source": [
        "### Efficiency\n",
        "nx.efficiency (G, u, v) returns the efficiency of a pair of nodes (u, v) in a graph G."
      ]
    },
    {
      "cell_type": "code",
      "execution_count": null,
      "metadata": {
        "id": "ViDErw30kpeN"
      },
      "outputs": [],
      "source": [
        "nx.efficiency(G, 0,32)"
      ]
    },
    {
      "cell_type": "markdown",
      "metadata": {
        "id": "neqgm8dZkpeN"
      },
      "source": [
        "### Average Degree Connectivity\n",
        "For a node of degree k - What is the average of its neighbours' degree?"
      ]
    },
    {
      "cell_type": "code",
      "execution_count": null,
      "metadata": {
        "id": "Zgu-VQzmkpeN"
      },
      "outputs": [],
      "source": [
        "nx.average_degree_connectivity(G)"
      ]
    },
    {
      "cell_type": "markdown",
      "metadata": {
        "id": "0Z91ihQxkpeN"
      },
      "source": [
        "### Path Exploration\n",
        "Find all the paths available"
      ]
    },
    {
      "cell_type": "code",
      "execution_count": null,
      "metadata": {
        "id": "dxb811IekpeO"
      },
      "outputs": [],
      "source": [
        "for p in nx.all_simple_paths(G, source=11, target=0):\n",
        "    print (p)"
      ]
    },
    {
      "cell_type": "markdown",
      "metadata": {
        "id": "7nZaC4QZkpeO"
      },
      "source": [
        "### Dijkstra /ˈdaɪkstrə/ Shortest Path\n",
        "Dijkstra's algorithm (or Dijkstra's Shortest Path First algorithm, SPF algorithm) is an algorithm for finding the shortest paths between nodes in a graph, which may represent, for example, road networks. It was conceived by computer scientist Edsger W. Dijkstra in 1956 and published three years later.\n"
      ]
    },
    {
      "cell_type": "code",
      "execution_count": null,
      "metadata": {
        "id": "LEyibIcfkpeO"
      },
      "outputs": [],
      "source": [
        "nx.dijkstra_path(G, source=1, target=27)"
      ]
    },
    {
      "cell_type": "code",
      "execution_count": null,
      "metadata": {
        "id": "BiTW_vYZkpeO"
      },
      "outputs": [],
      "source": [
        "nx.shortest_path(G, source=1, target=27)"
      ]
    },
    {
      "cell_type": "code",
      "execution_count": null,
      "metadata": {
        "id": "pwinikI8kpeO"
      },
      "outputs": [],
      "source": [
        "nx.shortest_path_length(G, source=1, target=27)"
      ]
    },
    {
      "cell_type": "markdown",
      "metadata": {
        "id": "DTKQw3bJkpeO"
      },
      "source": [
        "### Depth First Search\n",
        "Basic algorithms for depth-first searching.\n",
        "Based on http://www.ics.uci.edu/~eppstein/PADS/DFS.py by D. Eppstein, July 2004."
      ]
    },
    {
      "cell_type": "code",
      "execution_count": null,
      "metadata": {
        "id": "dv59ByM2kpeP"
      },
      "outputs": [],
      "source": [
        "plt.figure(figsize=(12,12))\n",
        "nx.draw(G, pos, with_labels=True)"
      ]
    },
    {
      "cell_type": "code",
      "execution_count": null,
      "metadata": {
        "id": "uPmxAMrPkpeP"
      },
      "outputs": [],
      "source": [
        "plt.figure(figsize=(12,12))\n",
        "nx.draw(nx.dfs_tree(G, 0), pos, with_labels=True)"
      ]
    },
    {
      "cell_type": "markdown",
      "metadata": {
        "id": "15KnWf88kpeP"
      },
      "source": [
        "### Breadth First Search\n",
        "Basic algorithms for breadth-first searching."
      ]
    },
    {
      "cell_type": "code",
      "execution_count": null,
      "metadata": {
        "id": "kRg9hW-BkpeP"
      },
      "outputs": [],
      "source": [
        "plt.figure(figsize=(12,12))\n",
        "nx.draw(nx.bfs_tree(G, 0), pos, with_labels=True)"
      ]
    }
  ],
  "metadata": {
    "kernelspec": {
      "display_name": "Python 3 (ipykernel)",
      "language": "python",
      "name": "python3"
    },
    "language_info": {
      "codemirror_mode": {
        "name": "ipython",
        "version": 3
      },
      "file_extension": ".py",
      "mimetype": "text/x-python",
      "name": "python",
      "nbconvert_exporter": "python",
      "pygments_lexer": "ipython3",
      "version": "3.11.4"
    },
    "colab": {
      "provenance": [],
      "include_colab_link": true
    }
  },
  "nbformat": 4,
  "nbformat_minor": 0
}