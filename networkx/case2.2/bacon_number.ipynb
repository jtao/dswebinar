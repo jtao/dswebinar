{
 "cells": [
  {
   "cell_type": "markdown",
   "metadata": {},
   "source": [
    "# Bacon Number\n",
    "\n",
    "\n",
    "[Jian Tao](https://coehpc.engr.tamu.edu/people/jian-tao/), Texas A&M University\n",
    "\n",
    "June 30, 2023\n",
    "\n",
    "The [Bacon number](https://en.wikipedia.org/wiki/Six_Degrees_of_Kevin_Bacon#Bacon_numbers) of an actor or actress is the number of degrees of separation (see Six degrees of separation) they have from actor Kevin Bacon, as defined by the game known as [Six Degrees of Kevin Bacon](https://en.wikipedia.org/wiki/Six_Degrees_of_Kevin_Bacon). The higher the Bacon number, the farther away from Kevin Bacon the actor is.\n",
    "\n",
    "For example, Kevin Bacon's Bacon number is 0. If an actor works in a movie with Kevin Bacon, the actor's Bacon number is 1. If an actor works with an actor who worked with Kevin Bacon in a movie, the first actor's Bacon number is 2, and so forth.\n",
    "\n",
    "Using the file Movie_Data.txt in the repository to\n",
    "\n",
    "1. construct a graph with pandas and NetworkX;\n",
    "2. implement a function to find Bacon number of an arbitrary actor/actress;\n",
    "3. with your function, find the Bacon number of Bruce Lee and Elizabeth Taylor or your favorite actor/actress.\n",
    "\n",
    "The movie data was downloaded and uncompressed from https://oracleofbacon.org/data.txt.bz2, which is collected with a Ruby script by Patrick Reynolds at https://github.com/piki/wikipedia-film-database."
   ]
  },
  {
   "cell_type": "code",
   "execution_count": null,
   "metadata": {},
   "outputs": [],
   "source": [
    "import pandas as pd\n",
    "import numpy as np\n",
    "import networkx as nx\n",
    "import matplotlib.pyplot as plt\n",
    "from itertools import combinations"
   ]
  },
  {
   "cell_type": "markdown",
   "metadata": {},
   "source": [
    "Read in the movie data and explore the content."
   ]
  },
  {
   "cell_type": "code",
   "execution_count": null,
   "metadata": {},
   "outputs": [],
   "source": [
    "# this is to detect if we are running on Google Colab.\n",
    "import sys\n",
    "IN_COLAB = 'google.colab' in sys.modules\n",
    "\n",
    "if IN_COLAB:\n",
    "  datafile = \"https://raw.githubusercontent.com/jtao/dswebinar/master/networkx/case2.2/Movie_Data.txt\"\n",
    "else:  \n",
    "  datafile = \"Movie_Data.txt\"\n",
    "df = pd.read_json(datafile, lines = True)"
   ]
  },
  {
   "cell_type": "code",
   "execution_count": null,
   "metadata": {},
   "outputs": [],
   "source": [
    "df.head(5)"
   ]
  },
  {
   "cell_type": "code",
   "execution_count": null,
   "metadata": {},
   "outputs": [],
   "source": [
    "df.info()"
   ]
  },
  {
   "cell_type": "markdown",
   "metadata": {},
   "source": [
    "List all the movies that Bruce Lee played."
   ]
  },
  {
   "cell_type": "code",
   "execution_count": null,
   "metadata": {},
   "outputs": [],
   "source": [
    "for i in range(0,len(df)):\n",
    "    try:\n",
    "        if \"Bruce Lee\" in df[\"cast\"][i]:\n",
    "            print (df['title'][i])\n",
    "    except:\n",
    "        pass"
   ]
  },
  {
   "cell_type": "markdown",
   "metadata": {},
   "source": [
    "To get the Bacon Number, we first create a complex graph that associates different actors/actresses together based on their movies. In the graph, the actor/actress names are the nodes and if two actors/actresses are in the same movie they will be connected by an edge."
   ]
  },
  {
   "cell_type": "code",
   "execution_count": null,
   "metadata": {},
   "outputs": [],
   "source": [
    "G = nx.Graph()\n",
    "for x in range(0,len(df)):\n",
    "    myList = list(combinations(df['cast'][x],2))\n",
    "    G.add_edges_from(myList)"
   ]
  },
  {
   "cell_type": "markdown",
   "metadata": {},
   "source": [
    "Define a function to find the Bacon Number of an actor/actress."
   ]
  },
  {
   "cell_type": "code",
   "execution_count": null,
   "metadata": {},
   "outputs": [],
   "source": [
    "def Bacon_Number(Actor_Name):\n",
    "    bcn_num = nx.shortest_path_length(G,'Kevin Bacon', Actor_Name)\n",
    "    print (\"Bacon Number of %s is %d\" % (Actor_Name, bcn_num))\n",
    "    shortest_paths = nx.all_shortest_paths(G, 'Kevin Bacon', Actor_Name)\n",
    "    for sp in shortest_paths:\n",
    "        print(sp)\n",
    "    return bcn_num\n",
    "\n",
    "#function is used to determine the bacon number of a certain actor/actress, where the actor/actress name will be input"
   ]
  },
  {
   "cell_type": "markdown",
   "metadata": {},
   "source": [
    "Let's find the Bacon Number of your favourite actor/actress!"
   ]
  },
  {
   "cell_type": "code",
   "execution_count": null,
   "metadata": {},
   "outputs": [],
   "source": [
    "Bacon_Number('Bruce Lee')\n",
    "#determines bacon number of Bruce Lee"
   ]
  },
  {
   "cell_type": "code",
   "execution_count": null,
   "metadata": {},
   "outputs": [],
   "source": [
    "Bacon_Number('Elizabeth Taylor')\n",
    "#determines Bacon Number of Elizabeth taylor"
   ]
  }
 ],
 "metadata": {
  "kernelspec": {
   "display_name": "Python 3 (ipykernel)",
   "language": "python",
   "name": "python3"
  },
  "language_info": {
   "codemirror_mode": {
    "name": "ipython",
    "version": 3
   },
   "file_extension": ".py",
   "mimetype": "text/x-python",
   "name": "python",
   "nbconvert_exporter": "python",
   "pygments_lexer": "ipython3",
   "version": "3.11.4"
  }
 },
 "nbformat": 4,
 "nbformat_minor": 4
}
